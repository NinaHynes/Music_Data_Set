{
 "cells": [
  {
   "cell_type": "code",
   "execution_count": null,
   "metadata": {},
   "outputs": [],
   "source": [
    "# Step 1: Mount Google Drive\n",
    "from google.colab import drive\n",
    "drive.mount('/content/drive')\n",
    "\n",
    "# Step 2: Import necessary libraries\n",
    "from bs4 import BeautifulSoup\n",
    "import requests\n",
    "import os\n",
    "\n",
    "# Step 3: Define genres and paths\n",
    "genres = [\"jazz\", \"hiphop\", \"rock\", \"pop\", \"classical\"]\n",
    "base_url = \"https://freemusicarchive.org/search/?quicksearch=&search-genre=jazz\"\n",
    "base_path = \"/content/drive/My Drive/music_files/jazz\"  # Save to Google Drive\n",
    "\n",
    "# Step 4: Define the function to download files and upload to Google Drive\n",
    "def download_files(genre, num_files=2000):\n",
    "    genre_url = f\"{base_url}/{genre}\"\n",
    "    genre_path = os.path.join(base_path, genre)\n",
    "    os.makedirs(genre_path, exist_ok=True)\n",
    "    file_count = 0\n",
    "\n",
    "    while file_count < num_files:\n",
    "        response = requests.get(genre_url)\n",
    "        soup = BeautifulSoup(response.text, 'html.parser')\n",
    "\n",
    "        # Finding download links (you may need to adjust this depending on the actual site structure)\n",
    "        for link in soup.find_all('a', href=True):\n",
    "            if file_count >= num_files:\n",
    "                break\n",
    "\n",
    "            file_url = link['href']\n",
    "            if file_url.endswith('.mp3'):  # Example filter for .mp3 files\n",
    "                track_name = os.path.join(genre_path, f\"{genre}_track_{file_count+1}.mp3\")\n",
    "\n",
    "                # Downloading and saving directly to Google Drive\n",
    "                with requests.get(file_url, stream=True) as r:\n",
    "                    with open(track_name, 'wb') as f:\n",
    "                        for chunk in r.iter_content(chunk_size=8192):\n",
    "                            f.write(chunk)\n",
    "\n",
    "                print(f\"Downloaded {track_name}\")\n",
    "                file_count += 1\n",
    "\n",
    "# Step 5: Execute the download for each genre\n",
    "for genre in genres:\n",
    "    download_files(genre)\n"
   ]
  }
 ],
 "metadata": {
  "language_info": {
   "name": "python"
  }
 },
 "nbformat": 4,
 "nbformat_minor": 2
}
